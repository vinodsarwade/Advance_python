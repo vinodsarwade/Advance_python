{
 "cells": [
  {
   "cell_type": "code",
   "execution_count": 3,
   "metadata": {},
   "outputs": [
    {
     "name": "stdout",
     "output_type": "stream",
     "text": [
      "<__main__.Car object at 0x000001B510DE0B90>\n",
      "<__main__.Car object at 0x000001B510DE3B90>\n"
     ]
    }
   ],
   "source": [
    "# A class is a blue print for creating objects, attributes and methods.\n",
    "\n",
    "class Car:\n",
    "    pass\n",
    "audi = Car()\n",
    "bmw = Car()\n",
    "print(audi)\n",
    "print(bmw)"
   ]
  },
  {
   "cell_type": "code",
   "execution_count": 2,
   "metadata": {},
   "outputs": [
    {
     "name": "stdout",
     "output_type": "stream",
     "text": [
      "4\n"
     ]
    }
   ],
   "source": [
    "#it is not a correct way to initilize the methods and attibutes.\n",
    "audi.windows = 4\n",
    "print(audi.windows)"
   ]
  },
  {
   "cell_type": "code",
   "execution_count": 8,
   "metadata": {},
   "outputs": [
    {
     "name": "stdout",
     "output_type": "stream",
     "text": [
      "tommy\n",
      "23\n"
     ]
    }
   ],
   "source": [
    "class Dog:\n",
    "    #constructor\n",
    "    def __init__(self,name,age):\n",
    "        self.name = name\n",
    "        self.age = age\n",
    "\n",
    "#creating an object\n",
    "dog1 = Dog('tommy', 23)\n",
    "#calling methods using object\n",
    "print(dog1.name)\n",
    "print(dog1.age)\n"
   ]
  },
  {
   "cell_type": "code",
   "execution_count": 9,
   "metadata": {},
   "outputs": [
    {
     "name": "stdout",
     "output_type": "stream",
     "text": [
      "luucy\n",
      "3\n"
     ]
    }
   ],
   "source": [
    "dog2 = Dog(\"lucy\",3)\n",
    "print(dog2.name)\n",
    "print(dog2.age)"
   ]
  },
  {
   "cell_type": "code",
   "execution_count": 11,
   "metadata": {},
   "outputs": [
    {
     "name": "stdout",
     "output_type": "stream",
     "text": [
      "Buddy says woof\n",
      "lucy says woof\n"
     ]
    }
   ],
   "source": [
    "#define a class with instance method\n",
    "class Dog:\n",
    "    def __init__(self,name,age):\n",
    "        self.name = name\n",
    "        self.age = age\n",
    "\n",
    "    def bark(self):\n",
    "        print(f\"{self.name} says woof\")\n",
    "   \n",
    "dog1 = Dog(\"Buddy\", 5)\n",
    "dog1.bark()\n",
    "dog2 = Dog(\"lucy\",5)\n",
    "dog2.bark() "
   ]
  },
  {
   "cell_type": "code",
   "execution_count": 12,
   "metadata": {},
   "outputs": [
    {
     "name": "stdout",
     "output_type": "stream",
     "text": [
      "5000\n"
     ]
    }
   ],
   "source": [
    "## modeling a bank account\n",
    "\n",
    "class BankAccount():\n",
    "    def __init__(self, owner, balance:0):\n",
    "        self.owner = owner\n",
    "        self.balance = balance\n",
    "\n",
    "    def deposit(self, amount):\n",
    "        self.amount = amount\n",
    "        self.balance = self.balance+amount\n",
    "        print(f\"hey amount is deposited new balance is {self.balance}\")\n",
    "    \n",
    "    def withdraw(self, amount):\n",
    "        if amount > self.balance:\n",
    "            print(\"insufficient funds\")\n",
    "        else:\n",
    "            self.balance = self.balance-amount\n",
    "            print(f\"{amount} is withdrawn and new balance is {self.balance}\")\n",
    "    \n",
    "    def get_balance(self):\n",
    "        return self.balance\n",
    "    \n",
    "#create an object\n",
    "account = BankAccount(\"vinod\", 5000)\n",
    "print(account.balance)\n"
   ]
  },
  {
   "cell_type": "code",
   "execution_count": 13,
   "metadata": {},
   "outputs": [
    {
     "name": "stdout",
     "output_type": "stream",
     "text": [
      "hey amount is deposited new balance is 5500\n"
     ]
    }
   ],
   "source": [
    "account.deposit(500)"
   ]
  },
  {
   "cell_type": "code",
   "execution_count": 14,
   "metadata": {},
   "outputs": [
    {
     "name": "stdout",
     "output_type": "stream",
     "text": [
      "3000 is withdrawn and new balance is 2500\n"
     ]
    }
   ],
   "source": [
    "account.withdraw(3000)"
   ]
  },
  {
   "cell_type": "code",
   "execution_count": 15,
   "metadata": {},
   "outputs": [
    {
     "data": {
      "text/plain": [
       "2500"
      ]
     },
     "execution_count": 15,
     "metadata": {},
     "output_type": "execute_result"
    }
   ],
   "source": [
    "account.get_balance()"
   ]
  },
  {
   "cell_type": "code",
   "execution_count": null,
   "metadata": {},
   "outputs": [],
   "source": [
    "## for provate class attribute use __ before the variable or method.\n",
    "class BankAccount:\n",
    "    def __init__(self, account_number, balance=0):\n",
    "        self.__account_number = account_number\n",
    "        self.__balance = balance\n",
    "\n",
    "    def deposit(self, amount):\n",
    "        self.__balance += amount\n",
    "\n",
    "    def withdraw(self, amount):\n",
    "        if amount > self.__balance:\n",
    "            print(\"Insufficient balance!\")\n",
    "        else:\n",
    "            self.__balance -= amount\n",
    "\n",
    "    def check_balance(self):\n",
    "        return self.__balance\n",
    "\n",
    "# Test\n",
    "# account = BankAccount('12345678', 1000)\n",
    "# account.deposit(500)\n",
    "# account.withdraw(200)\n",
    "# print(account.check_balance())  # 1300\n",
    "# account.withdraw(2000)  # Insufficient balance!"
   ]
  }
 ],
 "metadata": {
  "kernelspec": {
   "display_name": "myenv",
   "language": "python",
   "name": "python3"
  },
  "language_info": {
   "codemirror_mode": {
    "name": "ipython",
    "version": 3
   },
   "file_extension": ".py",
   "mimetype": "text/x-python",
   "name": "python",
   "nbconvert_exporter": "python",
   "pygments_lexer": "ipython3",
   "version": "3.11.4"
  }
 },
 "nbformat": 4,
 "nbformat_minor": 2
}
