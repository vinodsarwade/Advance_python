{
 "cells": [
  {
   "cell_type": "markdown",
   "metadata": {},
   "source": [
    "program: A program is a sequence of instructions writes      inprogramming languages.\n",
    "process: A process is a simply an instance of a program that is being executed.\n",
    "thread: a thread is a unit of execution within a process \n",
    "ex: opening a Paint application is a process but crearing a circle/ rectangle in paint is a thread."
   ]
  },
  {
   "cell_type": "markdown",
   "metadata": {},
   "source": [
    "<h6>when to use multithreading............\n",
    "1. I/O- bound task:-> task that spend more time waiting for I/O operations (e.g.,file operation, network request)\n",
    "2.concurrent execution:-> when you want to improve throughput of your application by performing multiple operations concurrently."
   ]
  },
  {
   "cell_type": "code",
   "execution_count": 12,
   "metadata": {},
   "outputs": [
    {
     "name": "stdout",
     "output_type": "stream",
     "text": [
      "Number:0\n",
      "letter:a\n",
      "Number:1\n",
      "letter:b\n",
      "Number:2letter:c\n",
      "\n",
      "letter:dNumber:3\n",
      "\n",
      "Number:4letter:e\n",
      "\n",
      "10.02091360092163\n"
     ]
    }
   ],
   "source": [
    "#threading\n",
    "import threading \n",
    "import time\n",
    "\n",
    "def print_number():\n",
    "    for i in range(5):\n",
    "        time.sleep(2)\n",
    "        print(f\"Number:{i}\")\n",
    "\n",
    "def print_letter():\n",
    "    for letter in \"abcde\":\n",
    "        time.sleep(2)\n",
    "        print(f\"letter:{letter}\")\n",
    "\n",
    "#creating thread\n",
    "t1= threading.Thread(target=print_number)\n",
    "t2= threading.Thread(target=print_letter)\n",
    "\n",
    "start_time = time.time()\n",
    "#starting thread\n",
    "t1.start()\n",
    "t2.start()\n",
    "\n",
    "#wait for thread to complete\n",
    "t1.join()\n",
    "t2.join()\n",
    "\n",
    "finished_time = time.time()- start_time\n",
    "print(finished_time)"
   ]
  },
  {
   "cell_type": "markdown",
   "metadata": {},
   "source": [
    "<h6>Multiprocessing\n",
    "1. processes that run in parallel\n",
    "2. CPU-Bound tasks - task that are heavy on CPU usage(e.g, mathematical computation, data processing)\n",
    "3. Parallel execution: multiple core of the CPU\n"
   ]
  },
  {
   "cell_type": "code",
   "execution_count": 25,
   "metadata": {},
   "outputs": [
    {
     "name": "stdout",
     "output_type": "stream",
     "text": [
      "0.947005033493042\n"
     ]
    }
   ],
   "source": [
    "#multiprocessing\n",
    "import multiprocessing \n",
    "import time\n",
    "\n",
    "def square_numbers():\n",
    "    for i in range(5):\n",
    "        time.sleep(1)\n",
    "        print(f\"Square: {i*i}\")\n",
    "\n",
    "def cube_numbers():\n",
    "    for i in range(5):\n",
    "        time.sleep(1.5)\n",
    "        print(f\"cube: {i*i*i}\")\n",
    "\n",
    "if __name__==\"__main__\":\n",
    "    ##create two process\n",
    "    p1= multiprocessing.Process(target=square_numbers)\n",
    "    p2= multiprocessing.Process(target=cube_numbers)\n",
    "\n",
    "    t = time.time()\n",
    "\n",
    "    p1.start()\n",
    "    p2.start()\n",
    "\n",
    "    p1.join()\n",
    "    p2.join()\n",
    "\n",
    "    finished_time = time.time()- t\n",
    "    print(finished_time)\n"
   ]
  },
  {
   "cell_type": "markdown",
   "metadata": {},
   "source": [
    "<h5>Multithreading with Thread pool executer..........\n"
   ]
  },
  {
   "cell_type": "code",
   "execution_count": 27,
   "metadata": {},
   "outputs": [
    {
     "name": "stdout",
     "output_type": "stream",
     "text": [
      "Number: 1\n",
      "Number: 2\n",
      "Number: 3\n",
      "Number: 4\n",
      "Number: 5\n"
     ]
    }
   ],
   "source": [
    "#ThreadPoolExecutor\n",
    "from concurrent.futures import ThreadPoolExecutor\n",
    "import time\n",
    "\n",
    "def print_number(number):\n",
    "    time.sleep(1)\n",
    "    return f\"Number: {number}\"\n",
    "\n",
    "number = [1,2,3,4,5]\n",
    "with ThreadPoolExecutor(max_workers=3) as executor:\n",
    "    result = executor.map(print_number,number)\n",
    "    # print(result)\n",
    "for i in result:\n",
    "    print(i)"
   ]
  },
  {
   "cell_type": "markdown",
   "metadata": {},
   "source": [
    "<h4>Multiprocessing with ProcessPoolExecutor"
   ]
  },
  {
   "cell_type": "code",
   "execution_count": null,
   "metadata": {},
   "outputs": [],
   "source": []
  }
 ],
 "metadata": {
  "kernelspec": {
   "display_name": "myenv",
   "language": "python",
   "name": "python3"
  },
  "language_info": {
   "codemirror_mode": {
    "name": "ipython",
    "version": 3
   },
   "file_extension": ".py",
   "mimetype": "text/x-python",
   "name": "python",
   "nbconvert_exporter": "python",
   "pygments_lexer": "ipython3",
   "version": "3.11.4"
  }
 },
 "nbformat": 4,
 "nbformat_minor": 2
}
