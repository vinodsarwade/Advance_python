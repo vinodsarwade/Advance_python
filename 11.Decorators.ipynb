{
 "cells": [
  {
   "cell_type": "markdown",
   "metadata": {},
   "source": [
    "Decorators are powerful and flexible feature in python that allows you to modify the behaviour of a fun or method. They are commonly used to add functionality to function or methods without modifying their actual code."
   ]
  },
  {
   "cell_type": "markdown",
   "metadata": {},
   "source": [
    "#function copy\n",
    "#closures\n",
    "#decorators"
   ]
  },
  {
   "cell_type": "code",
   "execution_count": 7,
   "metadata": {},
   "outputs": [],
   "source": [
    "#function copy\n",
    "\n",
    "def wecome():\n",
    "    return \"Welcome to the Mumbai city\""
   ]
  },
  {
   "cell_type": "code",
   "execution_count": 8,
   "metadata": {},
   "outputs": [],
   "source": [
    "wel = wecome   # copy welcome fun in wel"
   ]
  },
  {
   "cell_type": "code",
   "execution_count": 10,
   "metadata": {},
   "outputs": [
    {
     "name": "stdout",
     "output_type": "stream",
     "text": [
      "Welcome to the Mumbai city\n",
      "Welcome to the Mumbai city\n"
     ]
    }
   ],
   "source": [
    "print(wel())   # call well fun.\n",
    "del wecome    # if i delete welcome fun but still we can access the using wel(), bcz it copied in wel() seperately.\n",
    "print(wel())"
   ]
  },
  {
   "cell_type": "code",
   "execution_count": 13,
   "metadata": {},
   "outputs": [],
   "source": [
    "##  closuress  ##\n",
    "\n",
    "#function inside a function\n",
    "\n",
    "def main_welcome():\n",
    "    msg = \"welcome\"\n",
    "    def sub_welcome_method():\n",
    "        print(\"welcome to mumbai\")\n",
    "        print(msg)                     #i can access this  outside varibale within sub function also. \n",
    "        print(\"please visit again\")\n",
    "    return sub_welcome_method()\n"
   ]
  },
  {
   "cell_type": "code",
   "execution_count": 14,
   "metadata": {},
   "outputs": [
    {
     "name": "stdout",
     "output_type": "stream",
     "text": [
      "welcome to mumbai\n",
      "welcome\n",
      "please visit again\n"
     ]
    }
   ],
   "source": [
    "main_welcome()"
   ]
  },
  {
   "cell_type": "code",
   "execution_count": 17,
   "metadata": {},
   "outputs": [],
   "source": [
    "def main_welcome(msg):\n",
    "    def sub_welcome_method():\n",
    "        print(\"welcome to mumbai\")\n",
    "        print(msg)                  # otherwise we can give directly msg as a parameter to fun and still we can access it in sub function.\n",
    "        print(\"please visit again\")\n",
    "    return sub_welcome_method()\n"
   ]
  },
  {
   "cell_type": "code",
   "execution_count": 18,
   "metadata": {},
   "outputs": [
    {
     "name": "stdout",
     "output_type": "stream",
     "text": [
      "welcome to mumbai\n",
      "do you need water\n",
      "please visit again\n"
     ]
    }
   ],
   "source": [
    "main_welcome(\"do you need water\")"
   ]
  },
  {
   "cell_type": "code",
   "execution_count": 23,
   "metadata": {},
   "outputs": [],
   "source": [
    "## you can pass inbuilt function also in main fun\n",
    "def main_welcome(func):\n",
    "    def sub_welcome_method():\n",
    "        print(\"welcome to mumbai\")\n",
    "        func(\"whats going on in mumbai\") #print will be replaced to func , and it will print the statement.            \n",
    "        print(\"please visit again\")\n",
    "    return sub_welcome_method()\n"
   ]
  },
  {
   "cell_type": "code",
   "execution_count": 24,
   "metadata": {},
   "outputs": [
    {
     "name": "stdout",
     "output_type": "stream",
     "text": [
      "welcome to mumbai\n",
      "whats going on in mumbai\n",
      "please visit again\n"
     ]
    }
   ],
   "source": [
    "main_welcome(print)"
   ]
  },
  {
   "cell_type": "code",
   "execution_count": 36,
   "metadata": {},
   "outputs": [],
   "source": [
    "def main_welcome(func,lst):   #here len fun and list will give as a parameter\n",
    "    def sub_welcome_method():\n",
    "        print(\"welcome to mumbai\")\n",
    "        print(func(lst))            #func will replaced to len so it will find len(lst).\n",
    "        print(\"please visit again\")\n",
    "    return sub_welcome_method()\n"
   ]
  },
  {
   "cell_type": "code",
   "execution_count": 38,
   "metadata": {},
   "outputs": [
    {
     "name": "stdout",
     "output_type": "stream",
     "text": [
      "welcome to mumbai\n",
      "6\n",
      "please visit again\n"
     ]
    }
   ],
   "source": [
    "main_welcome(len,[1,2,3,4,5,6])"
   ]
  },
  {
   "cell_type": "markdown",
   "metadata": {},
   "source": [
    "<h2>Decorators"
   ]
  },
  {
   "cell_type": "code",
   "execution_count": 57,
   "metadata": {},
   "outputs": [],
   "source": [
    "def main_welcome(func):         #fun1 which takes another fun as parameter\n",
    "    def sub_welcome_method():\n",
    "        print(\"welcome to mumbai\")\n",
    "        func()\n",
    "        print(\"please visit again\")\n",
    "    return sub_welcome_method()"
   ]
  },
  {
   "cell_type": "code",
   "execution_count": 78,
   "metadata": {},
   "outputs": [],
   "source": [
    "def course_introduction():          #func2\n",
    "    print(\"this is an advanced python course\")\n",
    "\n",
    "# course_introduction()"
   ]
  },
  {
   "cell_type": "code",
   "execution_count": 79,
   "metadata": {},
   "outputs": [
    {
     "name": "stdout",
     "output_type": "stream",
     "text": [
      "welcome to mumbai\n",
      "this is an advanced python course\n",
      "please visit again\n"
     ]
    }
   ],
   "source": [
    "main_welcome(course_introduction)    #calling fun1 by passing fun as parameter."
   ]
  },
  {
   "cell_type": "code",
   "execution_count": 80,
   "metadata": {},
   "outputs": [
    {
     "name": "stdout",
     "output_type": "stream",
     "text": [
      "welcome to mumbai\n",
      "this is an advanced python course\n",
      "please visit again\n"
     ]
    }
   ],
   "source": [
    "#to replace above two cell we can use decorator.\n",
    "#rather than calling function with fun as param used @decorator on function which we need to pass as a param.\n",
    "@main_welcome\n",
    "def course_introduction(): #this fun will pass as a param to main_welcome() fun. \n",
    "    print(\"this is an advanced python course\")"
   ]
  },
  {
   "cell_type": "code",
   "execution_count": 75,
   "metadata": {},
   "outputs": [],
   "source": [
    "##decorator\n",
    "def my_decorator(func):\n",
    "    def wrapper():\n",
    "        print(\"something is happening before fun is called\")\n",
    "        func()\n",
    "        print(\"something is happening after the fun is called \")\n",
    "    return wrapper"
   ]
  },
  {
   "cell_type": "code",
   "execution_count": 82,
   "metadata": {},
   "outputs": [],
   "source": [
    "@my_decorator\n",
    "def say_hello():\n",
    "    print(\"hello everyone\")"
   ]
  },
  {
   "cell_type": "code",
   "execution_count": 83,
   "metadata": {},
   "outputs": [
    {
     "name": "stdout",
     "output_type": "stream",
     "text": [
      "something is happening before fun is called\n",
      "hello everyone\n",
      "something is happening after the fun is called \n"
     ]
    }
   ],
   "source": [
    "say_hello()"
   ]
  },
  {
   "cell_type": "code",
   "execution_count": 84,
   "metadata": {},
   "outputs": [],
   "source": [
    "## decorators with arguments\n",
    "def repeat(n):\n",
    "    def decorator(func):\n",
    "        def wrapper(*args, **kwargs):\n",
    "            for _ in range(n):\n",
    "                func(*args, **kwargs)\n",
    "        return wrapper\n",
    "    return decorator"
   ]
  },
  {
   "cell_type": "code",
   "execution_count": 85,
   "metadata": {},
   "outputs": [],
   "source": [
    "@repeat(3)\n",
    "def say_hello():\n",
    "    print(\"hello\")\n",
    "    "
   ]
  },
  {
   "cell_type": "code",
   "execution_count": 86,
   "metadata": {},
   "outputs": [
    {
     "name": "stdout",
     "output_type": "stream",
     "text": [
      "hello\n",
      "hello\n",
      "hello\n"
     ]
    }
   ],
   "source": [
    "say_hello()"
   ]
  },
  {
   "cell_type": "code",
   "execution_count": 22,
   "metadata": {},
   "outputs": [
    {
     "name": "stdout",
     "output_type": "stream",
     "text": [
      "[1, 2]\n"
     ]
    }
   ],
   "source": [
    "class Solution(object):\n",
    "    def removeDuplicates(self, nums):\n",
    "        \"\"\"\n",
    "        :type nums: List[int]\n",
    "        :rtype: int\n",
    "        \"\"\"\n",
    "        i = 1\n",
    "        while i < len(nums):\n",
    "            if nums[i] == nums[i-1]:\n",
    "                nums.pop(i)\n",
    "            else:\n",
    "                i += 1\n",
    "        return nums\n",
    "        # return len(nums) \n",
    "\n",
    "obj1 = Solution()\n",
    "nums = [1,1,2]\n",
    "print(obj1.removeDuplicates(nums))"
   ]
  },
  {
   "cell_type": "code",
   "execution_count": 18,
   "metadata": {},
   "outputs": [
    {
     "name": "stdout",
     "output_type": "stream",
     "text": [
      "2 [1, 2]\n"
     ]
    }
   ],
   "source": [
    "def remove_duplicates(nums):\n",
    "    unique_index = 0\n",
    "    for i in range(1,len(nums)):\n",
    "        \n",
    "        if nums[i] != nums[unique_index]:\n",
    "            unique_index += 1\n",
    "            # Move the unique element to the next position\n",
    "            nums[unique_index] = nums[i]\n",
    "\n",
    "    return unique_index + 1\n",
    "nums1 = [1, 1, 2]\n",
    "k1 = remove_duplicates(nums1)\n",
    "print(k1, nums1[:k1])\n",
    "\n"
   ]
  },
  {
   "cell_type": "code",
   "execution_count": 20,
   "metadata": {},
   "outputs": [
    {
     "name": "stdout",
     "output_type": "stream",
     "text": [
      "(0, 1)\n"
     ]
    }
   ],
   "source": [
    "##Two sum\n",
    "class Solution(object):\n",
    "    def twoSum(self, nums, target):\n",
    "        dic = {} \n",
    "        for index, value in enumerate(nums):\n",
    "            n = target - value\n",
    "            if n in dic:\n",
    "                return dic[n], index\n",
    "            dic[value] = index\n",
    "\n",
    "\n",
    "obj = Solution()\n",
    "nums = [2,7,11,15]\n",
    "target = 9\n",
    "print(obj.twoSum(nums, target))\n",
    "\n",
    "            "
   ]
  },
  {
   "cell_type": "code",
   "execution_count": 19,
   "metadata": {},
   "outputs": [
    {
     "name": "stdout",
     "output_type": "stream",
     "text": [
      "[1, 2, 5, 6, 3, 0, 0, 0]\n"
     ]
    }
   ],
   "source": [
    "'''remove all zeros and append at last of array'''\n",
    "def remove_zero(my_list):\n",
    "    new_list = []\n",
    "    count = 0\n",
    "    for number in my_list:\n",
    "        if number == 0:\n",
    "            count += 1 \n",
    "        else:\n",
    "            new_list.append(number)\n",
    "    new_list.extend([0] * count)\n",
    "    return new_list\n",
    "\n",
    "my_list = [1,2,0,5,6,0,3,0]\n",
    "res = remove_zero(my_list)\n",
    "print(res)"
   ]
  },
  {
   "cell_type": "code",
   "execution_count": null,
   "metadata": {},
   "outputs": [],
   "source": []
  }
 ],
 "metadata": {
  "kernelspec": {
   "display_name": "myenv",
   "language": "python",
   "name": "python3"
  },
  "language_info": {
   "codemirror_mode": {
    "name": "ipython",
    "version": 3
   },
   "file_extension": ".py",
   "mimetype": "text/x-python",
   "name": "python",
   "nbconvert_exporter": "python",
   "pygments_lexer": "ipython3",
   "version": "3.11.4"
  }
 },
 "nbformat": 4,
 "nbformat_minor": 2
}
