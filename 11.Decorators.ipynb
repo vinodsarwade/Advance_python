{
 "cells": [
  {
   "cell_type": "markdown",
   "metadata": {},
   "source": [
    "Decorators are powerful and flexible feature in python that allows you to modify the behaviour of a fun or method. They are commonly used to add functionality to function or methods without modifying their actual code."
   ]
  },
  {
   "cell_type": "markdown",
   "metadata": {},
   "source": [
    "#function copy\n",
    "#closures\n",
    "#decorators"
   ]
  },
  {
   "cell_type": "code",
   "execution_count": 7,
   "metadata": {},
   "outputs": [],
   "source": [
    "#function copy\n",
    "\n",
    "def wecome():\n",
    "    return \"Welcome to the Mumbai city\""
   ]
  },
  {
   "cell_type": "code",
   "execution_count": 8,
   "metadata": {},
   "outputs": [],
   "source": [
    "wel = wecome   # copy welcome fun in wel"
   ]
  },
  {
   "cell_type": "code",
   "execution_count": 10,
   "metadata": {},
   "outputs": [
    {
     "name": "stdout",
     "output_type": "stream",
     "text": [
      "Welcome to the Mumbai city\n",
      "Welcome to the Mumbai city\n"
     ]
    }
   ],
   "source": [
    "print(wel())   # call well fun.\n",
    "del wecome    # if i delete welcome fun but still we can access the using wel(), bcz it copied in wel() seperately.\n",
    "print(wel())"
   ]
  },
  {
   "cell_type": "code",
   "execution_count": 13,
   "metadata": {},
   "outputs": [],
   "source": [
    "##  closuress  ##\n",
    "\n",
    "#function inside a function\n",
    "\n",
    "def main_welcome():\n",
    "    msg = \"welcome\"\n",
    "    def sub_welcome_method():\n",
    "        print(\"welcome to mumbai\")\n",
    "        print(msg)                     #i can access this  outside varibale within sub function also. \n",
    "        print(\"please visit again\")\n",
    "    return sub_welcome_method()\n"
   ]
  },
  {
   "cell_type": "code",
   "execution_count": 14,
   "metadata": {},
   "outputs": [
    {
     "name": "stdout",
     "output_type": "stream",
     "text": [
      "welcome to mumbai\n",
      "welcome\n",
      "please visit again\n"
     ]
    }
   ],
   "source": [
    "main_welcome()"
   ]
  },
  {
   "cell_type": "code",
   "execution_count": 17,
   "metadata": {},
   "outputs": [],
   "source": [
    "def main_welcome(msg):\n",
    "    def sub_welcome_method():\n",
    "        print(\"welcome to mumbai\")\n",
    "        print(msg)                  # otherwise we can give directly msg as a parameter to fun and still we can access it in sub function.\n",
    "        print(\"please visit again\")\n",
    "    return sub_welcome_method()\n"
   ]
  },
  {
   "cell_type": "code",
   "execution_count": 18,
   "metadata": {},
   "outputs": [
    {
     "name": "stdout",
     "output_type": "stream",
     "text": [
      "welcome to mumbai\n",
      "do you need water\n",
      "please visit again\n"
     ]
    }
   ],
   "source": [
    "main_welcome(\"do you need water\")"
   ]
  },
  {
   "cell_type": "code",
   "execution_count": 23,
   "metadata": {},
   "outputs": [],
   "source": [
    "## you can pass inbuilt function also in main fun\n",
    "def main_welcome(func):\n",
    "    def sub_welcome_method():\n",
    "        print(\"welcome to mumbai\")\n",
    "        func(\"whats going on in mumbai\") #print will be replaced to func , and it will print the statement.            \n",
    "        print(\"please visit again\")\n",
    "    return sub_welcome_method()\n"
   ]
  },
  {
   "cell_type": "code",
   "execution_count": 24,
   "metadata": {},
   "outputs": [
    {
     "name": "stdout",
     "output_type": "stream",
     "text": [
      "welcome to mumbai\n",
      "whats going on in mumbai\n",
      "please visit again\n"
     ]
    }
   ],
   "source": [
    "main_welcome(print)"
   ]
  },
  {
   "cell_type": "code",
   "execution_count": 36,
   "metadata": {},
   "outputs": [],
   "source": [
    "def main_welcome(func,lst):   #here len fun and list will give as a parameter\n",
    "    def sub_welcome_method():\n",
    "        print(\"welcome to mumbai\")\n",
    "        print(func(lst))            #func will replaced to len so it will find len(lst).\n",
    "        print(\"please visit again\")\n",
    "    return sub_welcome_method()\n"
   ]
  },
  {
   "cell_type": "code",
   "execution_count": 38,
   "metadata": {},
   "outputs": [
    {
     "name": "stdout",
     "output_type": "stream",
     "text": [
      "welcome to mumbai\n",
      "6\n",
      "please visit again\n"
     ]
    }
   ],
   "source": [
    "main_welcome(len,[1,2,3,4,5,6])"
   ]
  },
  {
   "cell_type": "markdown",
   "metadata": {},
   "source": [
    "<h2>Decorators"
   ]
  },
  {
   "cell_type": "code",
   "execution_count": 57,
   "metadata": {},
   "outputs": [],
   "source": [
    "def main_welcome(func):         #fun1 which takes another fun as parameter\n",
    "    def sub_welcome_method():\n",
    "        print(\"welcome to mumbai\")\n",
    "        func()\n",
    "        print(\"please visit again\")\n",
    "    return sub_welcome_method()"
   ]
  },
  {
   "cell_type": "code",
   "execution_count": 78,
   "metadata": {},
   "outputs": [],
   "source": [
    "def course_introduction():          #func2\n",
    "    print(\"this is an advanced python course\")\n",
    "\n",
    "# course_introduction()"
   ]
  },
  {
   "cell_type": "code",
   "execution_count": 79,
   "metadata": {},
   "outputs": [
    {
     "name": "stdout",
     "output_type": "stream",
     "text": [
      "welcome to mumbai\n",
      "this is an advanced python course\n",
      "please visit again\n"
     ]
    }
   ],
   "source": [
    "main_welcome(course_introduction)    #calling fun1 by passing fun as parameter."
   ]
  },
  {
   "cell_type": "code",
   "execution_count": 80,
   "metadata": {},
   "outputs": [
    {
     "name": "stdout",
     "output_type": "stream",
     "text": [
      "welcome to mumbai\n",
      "this is an advanced python course\n",
      "please visit again\n"
     ]
    }
   ],
   "source": [
    "#to replace above two cell we can use decorator.\n",
    "#rather than calling function with fun as param used @decorator on function which we need to pass as a param.\n",
    "@main_welcome\n",
    "def course_introduction(): #this fun will pass as a param to main_welcome() fun. \n",
    "    print(\"this is an advanced python course\")"
   ]
  },
  {
   "cell_type": "code",
   "execution_count": 75,
   "metadata": {},
   "outputs": [],
   "source": [
    "##decorator\n",
    "def my_decorator(func):\n",
    "    def wrapper():\n",
    "        print(\"something is happening before fun is called\")\n",
    "        func()\n",
    "        print(\"something is happening after the fun is called \")\n",
    "    return wrapper"
   ]
  },
  {
   "cell_type": "code",
   "execution_count": 82,
   "metadata": {},
   "outputs": [],
   "source": [
    "@my_decorator\n",
    "def say_hello():\n",
    "    print(\"hello everyone\")"
   ]
  },
  {
   "cell_type": "code",
   "execution_count": 83,
   "metadata": {},
   "outputs": [
    {
     "name": "stdout",
     "output_type": "stream",
     "text": [
      "something is happening before fun is called\n",
      "hello everyone\n",
      "something is happening after the fun is called \n"
     ]
    }
   ],
   "source": [
    "say_hello()"
   ]
  },
  {
   "cell_type": "code",
   "execution_count": 84,
   "metadata": {},
   "outputs": [],
   "source": [
    "## decorators with arguments\n",
    "def repeat(n):\n",
    "    def decorator(func):\n",
    "        def wrapper(*args, **kwargs):\n",
    "            for _ in range(n):\n",
    "                func(*args, **kwargs)\n",
    "        return wrapper\n",
    "    return decorator"
   ]
  },
  {
   "cell_type": "code",
   "execution_count": 85,
   "metadata": {},
   "outputs": [],
   "source": [
    "@repeat(3)\n",
    "def say_hello():\n",
    "    print(\"hello\")\n",
    "    "
   ]
  },
  {
   "cell_type": "code",
   "execution_count": 86,
   "metadata": {},
   "outputs": [
    {
     "name": "stdout",
     "output_type": "stream",
     "text": [
      "hello\n",
      "hello\n",
      "hello\n"
     ]
    }
   ],
   "source": [
    "say_hello()"
   ]
  },
  {
   "cell_type": "code",
   "execution_count": null,
   "metadata": {},
   "outputs": [],
   "source": []
  }
 ],
 "metadata": {
  "kernelspec": {
   "display_name": "myenv",
   "language": "python",
   "name": "python3"
  },
  "language_info": {
   "codemirror_mode": {
    "name": "ipython",
    "version": 3
   },
   "file_extension": ".py",
   "mimetype": "text/x-python",
   "name": "python",
   "nbconvert_exporter": "python",
   "pygments_lexer": "ipython3",
   "version": "3.11.4"
  }
 },
 "nbformat": 4,
 "nbformat_minor": 2
}
