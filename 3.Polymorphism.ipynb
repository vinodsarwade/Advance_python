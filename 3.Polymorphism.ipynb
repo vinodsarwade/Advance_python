{
 "cells": [
  {
   "cell_type": "code",
   "execution_count": 1,
   "metadata": {},
   "outputs": [],
   "source": [
    "#it allows objects of a different classes to be treated as a object of a common superclass.\n",
    "#it provodes a way to perform a single action in different form.\n",
    "#polymorphism is typically achieved through method overriding and interfaces."
   ]
  },
  {
   "cell_type": "code",
   "execution_count": 5,
   "metadata": {},
   "outputs": [
    {
     "name": "stdout",
     "output_type": "stream",
     "text": [
      "woof!\n",
      "meow!\n",
      "woof!\n"
     ]
    }
   ],
   "source": [
    "#method overriding\n",
    "# it allows a child class to to provide a specific implementation of a method that is already defined in it's parents class.\n",
    " \n",
    "class Animal:\n",
    "    def speak(self):\n",
    "        return \"sound of the animal\"\n",
    "\n",
    "class Dog(Animal):\n",
    "    def speak(self):\n",
    "        return \"woof!\"\n",
    "                                         #both methods uses same fun name so nethod overriding.\n",
    "class Cat(Animal):\n",
    "    def speak(self):\n",
    "        return \"meow!\"\n",
    "\n",
    "#function that demonstrates polymorphism\n",
    "def animal_speak(animal):\n",
    "    print(animal.speak())       #fun which is outside of a class we can call this fun using oject of a class.\n",
    "\n",
    "\n",
    "dog = Dog()\n",
    "cat = Cat()\n",
    "print(dog.speak())\n",
    "print(cat.speak())\n",
    "\n",
    "animal_speak(dog)\n",
    "\n"
   ]
  },
  {
   "cell_type": "code",
   "execution_count": 8,
   "metadata": {},
   "outputs": [
    {
     "name": "stdout",
     "output_type": "stream",
     "text": [
      "area is 20\n",
      "area is 78.5\n"
     ]
    }
   ],
   "source": [
    "#polymorphism with function and methods\n",
    "class Shape:\n",
    "    def area(self):\n",
    "        return \"area of a figure\"\n",
    "\n",
    "#derived class 1\n",
    "class Rectangle(Shape):\n",
    "    def __init__(self,width,height):\n",
    "        self.width = width\n",
    "        self.height = height\n",
    "    def area(self):\n",
    "        return self.width * self.height\n",
    "\n",
    "#derived class 2\n",
    "class Circle(Shape):\n",
    "    def __init__(self,radius):\n",
    "        self.radius = radius\n",
    "    \n",
    "    def area(self):\n",
    "        return  3.14*self.radius*self.radius\n",
    "\n",
    "#fun that demonstrates polymorphism\n",
    "def print_area(shape):\n",
    "    print(f\"area is {shape.area()}\")\n",
    "\n",
    "\n",
    "rectangle = Rectangle(4,5)\n",
    "rectangle.area()\n",
    "\n",
    "circle = Circle(5)\n",
    "circle.area()\n",
    "\n",
    "print_area(rectangle)\n",
    "print_area(circle)\n"
   ]
  },
  {
   "cell_type": "code",
   "execution_count": 11,
   "metadata": {},
   "outputs": [
    {
     "name": "stdout",
     "output_type": "stream",
     "text": [
      "Car engine started\n"
     ]
    }
   ],
   "source": [
    "##  polymorphism with interfaces/abstract base class\n",
    "\n",
    "from abc import ABC,abstractmethod\n",
    "\n",
    "## define an abstract class\n",
    "class Vehicle(ABC):\n",
    "    @abstractmethod\n",
    "    def start_engine(self):\n",
    "        pass\n",
    "## derived class 1\n",
    "class Car(Vehicle):\n",
    "    def start_engine(self):\n",
    "        return \"Car engine started\"\n",
    "\n",
    "## derived class 2\n",
    "class Motorcycle(Vehicle):\n",
    "    def start_engine(self):\n",
    "        return \"Motorcycle engine started\"\n",
    "    \n",
    "## fun that demonstrates polymorphism\n",
    "def start_vehicle(vehicle):\n",
    "    print(vehicle.start_engine())\n",
    "\n",
    "## create object of Car and Motorcycle class\n",
    "car1 = Car()\n",
    "motorcycle1 = Motorcycle()\n",
    "\n",
    "start_vehicle(car1)"
   ]
  }
 ],
 "metadata": {
  "kernelspec": {
   "display_name": "myenv",
   "language": "python",
   "name": "python3"
  },
  "language_info": {
   "codemirror_mode": {
    "name": "ipython",
    "version": 3
   },
   "file_extension": ".py",
   "mimetype": "text/x-python",
   "name": "python",
   "nbconvert_exporter": "python",
   "pygments_lexer": "ipython3",
   "version": "3.11.4"
  }
 },
 "nbformat": 4,
 "nbformat_minor": 2
}
