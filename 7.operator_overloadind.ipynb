{
 "cells": [
  {
   "cell_type": "markdown",
   "metadata": {},
   "source": [
    "Opetator overloading allows you to define the behaviour of operators(+, -, *)for custom objects.\n",
    "you can achive this by overriding specific methods in your class."
   ]
  },
  {
   "cell_type": "code",
   "execution_count": null,
   "metadata": {},
   "outputs": [],
   "source": [
    "'''\n",
    "ex:\n",
    "__add__(self, other):Add two objects using the + operator\n",
    "__sub__(self,other): Substract two objects using the - operator\n",
    "__mul__(self, other):\n",
    "__truediv__(self, other):devide two objects using / operator\n",
    "__eq__(self, other):check if two objects are equal using == operator\n",
    "__it__(self, other): check if object is less than another using < operator\n",
    "__gt__(self, other): > operator\n",
    "'''"
   ]
  },
  {
   "cell_type": "code",
   "execution_count": 2,
   "metadata": {},
   "outputs": [
    {
     "name": "stdout",
     "output_type": "stream",
     "text": [
      "Vector:9, 11\n",
      "Vector:1, 1\n",
      "Vector:15, 18\n",
      "False\n",
      "Vector:5, 6\n"
     ]
    }
   ],
   "source": [
    "class Vector:\n",
    "    def __init__(self, x, y):\n",
    "        self.x = x\n",
    "        self.y = y\n",
    "\n",
    "    def __add__(self,other):\n",
    "        return Vector(self.x + other.x, self.y + other.y)\n",
    "\n",
    "    def __sub__(self,other):\n",
    "        return Vector(self.x - other.x, self.y - other.y)\n",
    "\n",
    "    def __mul__(self,other):\n",
    "        return Vector(self.x * other, self.y * other)\n",
    "\n",
    "    def __eq__(self,other):\n",
    "        return self.x == other.x and self.y == other.y\n",
    "    \n",
    "    def __repr__(self):\n",
    "        return f\"Vector:{self.x}, {self.y}\"\n",
    "\n",
    "#objects for vector class\n",
    "v1 = Vector(5,6)\n",
    "v2 = Vector(4,5)\n",
    "\n",
    "print(v1+v2)\n",
    "print(v1-v2)\n",
    "print(v1*3)\n",
    "print(v1==v2)\n",
    "print(repr(v1))\n",
    "\n"
   ]
  },
  {
   "cell_type": "code",
   "execution_count": null,
   "metadata": {},
   "outputs": [],
   "source": []
  }
 ],
 "metadata": {
  "kernelspec": {
   "display_name": "myenv",
   "language": "python",
   "name": "python3"
  },
  "language_info": {
   "codemirror_mode": {
    "name": "ipython",
    "version": 3
   },
   "file_extension": ".py",
   "mimetype": "text/x-python",
   "name": "python",
   "nbconvert_exporter": "python",
   "pygments_lexer": "ipython3",
   "version": "3.11.4"
  }
 },
 "nbformat": 4,
 "nbformat_minor": 2
}
